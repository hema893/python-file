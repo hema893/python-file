{
 "cells": [
  {
   "cell_type": "markdown",
   "id": "4d7c8840-56bf-4ad9-aa4e-59d21eb2b967",
   "metadata": {},
   "source": [
    "# what is python and why is it popular?                                                      \n",
    "python is a veresatile ,high-level programming language known for its readability and easy to use,making it popular for awide range of applications,\n",
    "including web development data analysis machine learning andautomation."
   ]
  },
  {
   "cell_type": "markdown",
   "id": "04e94629-63f3-4b52-8b6c-7a34b60bcf7c",
   "metadata": {},
   "source": [
    "# what is an interpreter in python?\n",
    "In python an interpreter is a program that reads and executes python code line by line."
   ]
  },
  {
   "cell_type": "markdown",
   "id": "5a94dd47-489e-4a96-8966-40b4ac44f94b",
   "metadata": {},
   "source": [
    "# what are pre-define keywords in python?\n",
    "Python keywords are some predefined and reversed words in python that have special menings."
   ]
  },
  {
   "cell_type": "markdown",
   "id": "f28ecfb8-ad2f-45f3-9c84-e4fe81c60edb",
   "metadata": {},
   "source": [
    "# Can keywords be used as variable names?\n",
    " No keywords cannot be used as variable names is most proggramming language."
   ]
  },
  {
   "cell_type": "markdown",
   "id": "0da5e839-3162-4adb-b89c-9d0c644eb74b",
   "metadata": {},
   "source": [
    "# what is mutability in pyton?\n",
    "In python an object is considered immutable if its value cannot be changedbafter its has been created. this means that any operation taht modifies an immutable oibject returns a new objectbwith the modified value."
   ]
  },
  {
   "cell_type": "markdown",
   "id": "538874e0-adaf-4d0d-9459-566cd6732335",
   "metadata": {},
   "source": [
    "# why are lisit mutable, but tuples are immutaible?\n",
    "List mutable (meaning they can be changed) and tuples immutable(mening theycannot be changed)."
   ]
  },
  {
   "cell_type": "markdown",
   "id": "9e299d88-9079-4ecd-b5fb-a2114eb72843",
   "metadata": {},
   "source": [
    "# what are logical operators in python?\n",
    "Logical operators in python are used to cobiine or modify boolean values(true or false).\n",
    "x=True \n",
    "y=False\n"
   ]
  },
  {
   "cell_type": "markdown",
   "id": "ea878d00-9d85-495f-a534-89d14519a2e9",
   "metadata": {},
   "source": [
    "# what is the type casting in python? \n",
    "Type casting in python also known as type conversation,refers to the process of changing data types of variable.It's essential because different data types have different functionalities and sometimes necessary to convert a value from one type to another to perform specifi  operations. python support two type casting: implicit and explicit."
   ]
  },
  {
   "cell_type": "markdown",
   "id": "c09fed75-0377-404e-b035-b22a44b95e7f",
   "metadata": {},
   "source": [
    "# what is the difference between \"==\" and \"is\" operators python?\n",
    "The == and is operators in python serve differnt comparison purpose.The== operator checks for equality of value, while the is operator checks the identity. \n",
    ".== (Equality):Evaluates whether the values of two operands are the same.it compares the content of the objects.\n",
    ".is (identity):Evaluates whether two operands refer to the same object in memory >it checks if the operands have the same meomery address."
   ]
  },
  {
   "cell_type": "markdown",
   "id": "c2524cb7-94bb-4840-b55f-1f4f1340d11b",
   "metadata": {},
   "source": [
    "# what is the difference between implict and explicit type casting? \n",
    "Implicit type casting happens automatically by the compiler, while  explicict type casting requires the programmer to define the conversion using specific syntax. "
   ]
  },
  {
   "cell_type": "markdown",
   "id": "d754ce0f-a4fa-4fe7-9b6f-0958cec459e6",
   "metadata": {},
   "source": [
    "# what is the purpose of conditional statements in python?\n",
    "They allow to make decision based on the values of variables or the result of comparisons."
   ]
  },
  {
   "cell_type": "markdown",
   "id": "d7339121-e197-474c-9df4-9a00b8d9d100",
   "metadata": {},
   "source": [
    "# How does the elif statment work ?\n",
    "The first condition is false.it moves on the next \"elif\"statment to check if that condition is true."
   ]
  },
  {
   "cell_type": "markdown",
   "id": "5595857c-df76-4a2e-a857-f6e2233db4e0",
   "metadata": {},
   "source": [
    "# what is the difference between for and while loops?\n",
    "when the number of iterations is known beforehand. while loop: best the used when numberbof iterations is unknown and depends on acondition that is checked repeatedly. the loop continues to execute as long as the condition remains true."
   ]
  },
  {
   "cell_type": "markdown",
   "id": "ef0a5446-6be0-406f-a4e2-11e01db4a0b8",
   "metadata": {},
   "source": [
    "# Describe a scenario where awhile loop is more suitable than a for loop?\n",
    "where the number of iterations is not predetermined and depends on some dynamic condition."
   ]
  },
  {
   "cell_type": "markdown",
   "id": "9b99d1c0-1f48-4e0d-bf90-d57bdd55d8d8",
   "metadata": {},
   "source": [
    "pratical question"
   ]
  },
  {
   "cell_type": "code",
   "execution_count": null,
   "id": "d7891a88-9ca5-4d28-9276-26551a6095f3",
   "metadata": {},
   "outputs": [],
   "source": [
    "write a python program to print \"hello,world!\""
   ]
  },
  {
   "cell_type": "code",
   "execution_count": 5,
   "id": "3723d608-1834-46fb-84e0-e733c6655733",
   "metadata": {},
   "outputs": [
    {
     "name": "stdout",
     "output_type": "stream",
     "text": [
      "hello,world!\n"
     ]
    }
   ],
   "source": [
    "print(\"hello,world!\")"
   ]
  },
  {
   "cell_type": "code",
   "execution_count": null,
   "id": "df72d93e-02dd-4324-98dd-f31eee46901f",
   "metadata": {},
   "outputs": [],
   "source": [
    "write a python program that displays your name and age?"
   ]
  },
  {
   "cell_type": "code",
   "execution_count": 10,
   "id": "4a489452-0120-41a2-abae-6e55ea004a68",
   "metadata": {},
   "outputs": [
    {
     "name": "stdout",
     "output_type": "stream",
     "text": [
      "hema\n",
      "25\n"
     ]
    }
   ],
   "source": [
    "print(\"hema\")\n",
    "print(\"25\")"
   ]
  },
  {
   "cell_type": "code",
   "execution_count": null,
   "id": "abe7bb38-b821-4e68-ae20-5d9a75c5c975",
   "metadata": {},
   "outputs": [],
   "source": [
    "write code to print all the pre-defiend keywords in python using the keyword libraray."
   ]
  },
  {
   "cell_type": "code",
   "execution_count": 1,
   "id": "ec8b2d40-500f-410f-8043-7ef2684f1a59",
   "metadata": {},
   "outputs": [],
   "source": [
    "#similar to predefined function, we have predefined keywords"
   ]
  },
  {
   "cell_type": "code",
   "execution_count": 2,
   "id": "8919d2c2-20fc-4cbc-b966-0b3968355fac",
   "metadata": {},
   "outputs": [
    {
     "name": "stdout",
     "output_type": "stream",
     "text": [
      "\n",
      "Here is a list of the Python keywords.  Enter any keyword to get more help.\n",
      "\n",
      "False               class               from                or\n",
      "None                continue            global              pass\n",
      "True                def                 if                  raise\n",
      "and                 del                 import              return\n",
      "as                  elif                in                  try\n",
      "assert              else                is                  while\n",
      "async               except              lambda              with\n",
      "await               finally             nonlocal            yield\n",
      "break               for                 not                 \n",
      "\n"
     ]
    }
   ],
   "source": [
    "help(\"keywords\")"
   ]
  },
  {
   "cell_type": "code",
   "execution_count": null,
   "id": "92b834c6-cdd5-49fd-9e32-780a1b6db547",
   "metadata": {},
   "outputs": [],
   "source": [
    "write a program that checks if a given is a python keyword."
   ]
  },
  {
   "cell_type": "code",
   "execution_count": 3,
   "id": "e6fdf35b-16ca-40ab-9aa8-304d99e728e0",
   "metadata": {},
   "outputs": [
    {
     "name": "stdin",
     "output_type": "stream",
     "text": [
      "Enter a word to check if it's a python keyword;  input\n"
     ]
    },
    {
     "ename": "NameError",
     "evalue": "name 'user_input' is not defined",
     "output_type": "error",
     "traceback": [
      "\u001b[1;31m---------------------------------------------------------------------------\u001b[0m",
      "\u001b[1;31mNameError\u001b[0m                                 Traceback (most recent call last)",
      "Cell \u001b[1;32mIn[3], line 10\u001b[0m\n\u001b[0;32m      8\u001b[0m     \u001b[38;5;28mprint\u001b[39m(\u001b[38;5;124mf\u001b[39m\u001b[38;5;124m\"\u001b[39m\u001b[38;5;124m'\u001b[39m\u001b[38;5;132;01m{\u001b[39;00muser_input\u001b[38;5;132;01m}\u001b[39;00m\u001b[38;5;124m'\u001b[39m\u001b[38;5;124m is a python keyword.\u001b[39m\u001b[38;5;124m\"\u001b[39m)\n\u001b[0;32m      9\u001b[0m \u001b[38;5;28;01melse\u001b[39;00m:\n\u001b[1;32m---> 10\u001b[0m     \u001b[38;5;28mprint\u001b[39m(\u001b[38;5;124mf\u001b[39m\u001b[38;5;124m\"\u001b[39m\u001b[38;5;124m'\u001b[39m\u001b[38;5;132;01m{\u001b[39;00muser_input\u001b[38;5;132;01m}\u001b[39;00m\u001b[38;5;124m'\u001b[39m\u001b[38;5;124mis not a python keyword.\u001b[39m\u001b[38;5;124m\"\u001b[39m)\n",
      "\u001b[1;31mNameError\u001b[0m: name 'user_input' is not defined"
     ]
    }
   ],
   "source": [
    "import keyword\n",
    "def is_python_keyword(word):\n",
    "    return keyword.iskeyword(word)\n",
    "\n",
    "# Example usage\n",
    "word = input(\"Enter a word to check if it's a python keyword; \")\n",
    "if is_python_keyword(word):\n",
    "    print(f\"'{user_input}' is a python keyword.\")\n",
    "else:\n",
    "    print(f\"'{user_input}'is not a python keyword.\")"
   ]
  },
  {
   "cell_type": "code",
   "execution_count": null,
   "id": "c1bf8477-f6ee-4cb5-960d-ee68c597add2",
   "metadata": {},
   "outputs": [],
   "source": [
    "creat a list and tuple in python and demonstrate how attempting to change on element works differently for each."
   ]
  },
  {
   "cell_type": "code",
   "execution_count": 10,
   "id": "b8b9e7ca-ac9f-44aa-bfbc-98ba64cbf2e7",
   "metadata": {},
   "outputs": [
    {
     "name": "stdout",
     "output_type": "stream",
     "text": [
      "Original list: [10, 20, 30]\n",
      "Modified list: [10, 200, 30]\n",
      "Original tuple: (10, 20, 30)\n",
      "Error when trying to modify tuple: 'tuple' object does not support item assignment\n"
     ]
    }
   ],
   "source": [
    "# Creating a list \n",
    "my_list = [10, 20, 30]\n",
    "print(\"Original list:\", my_list)\n",
    "\n",
    "# Changing an element in the list\n",
    "my_list[1] =200\n",
    "print(\"Modified list:\", my_list)\n",
    "\n",
    "# Creating a tuple\n",
    "my_tuple = (10,20,30)\n",
    "print(\"Original tuple:\", my_tuple)\n",
    "\n",
    "#Trying to change an element in the tuple\n",
    "try:\n",
    "    my_tuple[1] = 200\n",
    "except TypeError as e:\n",
    "    print(\"Error when trying to modify tuple:\", e)\n",
    "\n"
   ]
  },
  {
   "cell_type": "raw",
   "id": "cc1a3364-3a3e-42c7-bf57-7f88cb367b88",
   "metadata": {},
   "source": [
    "write a function to demonstrate the behaviour of mutable and immutable arguments."
   ]
  },
  {
   "cell_type": "code",
   "execution_count": 12,
   "id": "18daf525-7e15-4ab3-b41a-849b85f49e22",
   "metadata": {},
   "outputs": [
    {
     "name": "stdout",
     "output_type": "stream",
     "text": [
      "10\n",
      "[1, 2, 3, 4]\n"
     ]
    }
   ],
   "source": [
    "def test_args(immutable, mutable):\n",
    "    immutable += 1\n",
    "    mutable.append(4)\n",
    "x = 10          #Immutable\n",
    "y = [1, 2, 3 ]  #Mutable\n",
    "\n",
    "test_args(x, y)\n",
    "print(x)  #Output:10 (unchanged)\n",
    "print(y)  #Output:[1, 2, 3,40] (changed)\n",
    "     \n",
    "     "
   ]
  },
  {
   "cell_type": "code",
   "execution_count": null,
   "id": "87257e78-8799-48f5-9bce-7faa8c6750f1",
   "metadata": {},
   "outputs": [],
   "source": [
    "write a program that performs basic arithmetic operations on two user-input numbers."
   ]
  },
  {
   "cell_type": "code",
   "execution_count": null,
   "id": "c47e8b8b-eb25-4f8f-b775-8b965286ba82",
   "metadata": {},
   "outputs": [],
   "source": [
    "#Get input from user\n",
    "a = float(input(\"Enter first number: \"))\n",
    "b = float(input(\"Enter second number: \"))\n",
    "\n",
    "# Perform operations\n",
    "print(\"sum:\", a+b)\n",
    "print(\"Difference:\", a-b)\n",
    "print(\"Product:\", a*b)\n",
    "print(\"Quotient:\", a/b if b !=0 else \"undefined (division by zero)\")"
   ]
  },
  {
   "cell_type": "code",
   "execution_count": null,
   "id": "1e992635-ad2e-4df2-9ff5-04351b41a50e",
   "metadata": {},
   "outputs": [],
   "source": [
    "write a program to demonstrate the use of logical operators."
   ]
  },
  {
   "cell_type": "code",
   "execution_count": null,
   "id": "062b754c-b424-4c41-a269-2deb19001a72",
   "metadata": {},
   "outputs": [],
   "source": [
    "#Get input from user\n",
    "a = int(input(\"Enter a number: \"))\n",
    "\n",
    "#Logical operations\n",
    "print(\"Is the number greater than 0 and less than 10?,a > 0 and a < 10)\n",
    "print(\"Is the number less than 0 or greater than 100\", a , 0 or a > 100) \n",
    "print(\"Is the number NOT equal to 5?\",not a== 5)\n",
    "      "
   ]
  },
  {
   "cell_type": "markdown",
   "id": "23e2e8f5-eeb0-4473-8405-cf9023034752",
   "metadata": {},
   "source": [
    "write a python program to convert user input from string to integer,float, and boolean types."
   ]
  },
  {
   "cell_type": "code",
   "execution_count": null,
   "id": "d730018f-4a64-49e0-86f6-7dd7e20ca1d0",
   "metadata": {},
   "outputs": [],
   "source": [
    "s = input(\"Enter a value: \")\n",
    "\n",
    "i = int(S)\n",
    "f = float(S)\n",
    "b = bool(s)\n",
    "\n",
    "print(\"Integer:\", i)\n",
    "print(\"Float:\" ,f)\n",
    "print(\"Boolean:\", b)"
   ]
  },
  {
   "cell_type": "code",
   "execution_count": null,
   "id": "58a2a2fc-22fe-4ccd-bfbd-0fcd25b687d1",
   "metadata": {},
   "outputs": [],
   "source": [
    "write code to demonstrate type casting with lisit elements"
   ]
  },
  {
   "cell_type": "code",
   "execution_count": null,
   "id": "1a9707c2-d3a3-48df-8995-b599de87bfbf",
   "metadata": {},
   "outputs": [],
   "source": [
    "1st = ['1',  '2', '3']\n",
    "print([int(x) for x in 1st])\n",
    "print({float(x) for x in 1st])"
   ]
  },
  {
   "cell_type": "code",
   "execution_count": null,
   "id": "60eacb2c-3cd0-4199-9de9-a612eac3b266",
   "metadata": {},
   "outputs": [],
   "source": [
    "write a program that checks if a number is postive,negative, or zero."
   ]
  },
  {
   "cell_type": "code",
   "execution_count": null,
   "id": "1e0adb9a-1baf-44ed-8b8c-adbe5dfcadb9",
   "metadata": {},
   "outputs": [],
   "source": [
    "num = float(input(\"enter a number: \")\n",
    "\n",
    "if num > 0:\n",
    "    print(\"Positive\")\n",
    "elif num < 0:\n",
    "     print(\"Negative\")\n",
    "else:\n",
    "     print(\"Zero\")\n",
    "            "
   ]
  },
  {
   "cell_type": "code",
   "execution_count": null,
   "id": "6d275951-5cae-4b1c-97df-553b486bbf03",
   "metadata": {},
   "outputs": [],
   "source": [
    "write a for loop to print numbers from 1 to10."
   ]
  },
  {
   "cell_type": "code",
   "execution_count": 3,
   "id": "07f6593b-1de3-4374-887b-7c15df8ac68e",
   "metadata": {},
   "outputs": [
    {
     "name": "stdout",
     "output_type": "stream",
     "text": [
      "1\n",
      "2\n",
      "3\n",
      "4\n",
      "5\n",
      "6\n",
      "7\n",
      "8\n",
      "9\n",
      "10\n"
     ]
    }
   ],
   "source": [
    "for i in range(1, 11):\n",
    "    print(i)"
   ]
  },
  {
   "cell_type": "code",
   "execution_count": null,
   "id": "7c483c40-0e86-450d-bdb2-02961604bd5f",
   "metadata": {},
   "outputs": [],
   "source": [
    "write a python program to find the sum of all even numbers between 1 to 50."
   ]
  },
  {
   "cell_type": "code",
   "execution_count": 5,
   "id": "a987ad0f-faaf-4d2a-b638-4c93c716c8af",
   "metadata": {},
   "outputs": [
    {
     "name": "stdout",
     "output_type": "stream",
     "text": [
      "Sum of even numbers from 1 to 50 is: 650\n"
     ]
    }
   ],
   "source": [
    "sum = 0\n",
    "for i in range(2, 51, 2):\n",
    "     sum += i\n",
    "print(\"Sum of even numbers from 1 to 50 is:\", sum)"
   ]
  },
  {
   "cell_type": "code",
   "execution_count": null,
   "id": "e63faf97-c5d0-42a0-abe2-3a4846e7f089",
   "metadata": {},
   "outputs": [],
   "source": [
    "write a program to reverse a string using a while loop."
   ]
  },
  {
   "cell_type": "code",
   "execution_count": null,
   "id": "c8acb64a-352c-4e7a-80cf-73aa804e6705",
   "metadata": {},
   "outputs": [],
   "source": [
    "s = input(\"Enter a string: \")\n",
    "rev = \"\"\n",
    "i = len(s) - 1\n",
    "\n",
    "while i >= 0:\n",
    "    rev += s[i]\n",
    "    i -= 1\n",
    "\n",
    "print(\"Reversed string:\", rev)"
   ]
  },
  {
   "cell_type": "code",
   "execution_count": null,
   "id": "7573cb8e-1796-4398-99de-d88f8ea895ee",
   "metadata": {},
   "outputs": [],
   "source": [
    "write a python program to calculate the factorial of a number provided by the user using a while loop."
   ]
  },
  {
   "cell_type": "code",
   "execution_count": null,
   "id": "45379314-5615-4461-95b8-e0e5db994ad9",
   "metadata": {},
   "outputs": [],
   "source": [
    "num = int(input(\"Enter a number: \")\n",
    "          fact = 1\n",
    "          i = 1\n",
    "\n",
    "while i <= num: \n",
    "    fact *= i\n",
    "    i += 1\n",
    "\n",
    "print(\"Factorial:\", fa"
   ]
  }
 ],
 "metadata": {
  "kernelspec": {
   "display_name": "Python 3 (ipykernel)",
   "language": "python",
   "name": "python3"
  },
  "language_info": {
   "codemirror_mode": {
    "name": "ipython",
    "version": 3
   },
   "file_extension": ".py",
   "mimetype": "text/x-python",
   "name": "python",
   "nbconvert_exporter": "python",
   "pygments_lexer": "ipython3",
   "version": "3.12.7"
  }
 },
 "nbformat": 4,
 "nbformat_minor": 5
}
